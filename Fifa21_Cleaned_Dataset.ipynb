{
 "cells": [
  {
   "cell_type": "markdown",
   "id": "ab1761fd-8e07-45d6-88af-cf616b8f077c",
   "metadata": {},
   "source": [
    "# Import all necessary libraries"
   ]
  },
  {
   "cell_type": "code",
   "execution_count": 1,
   "id": "f4d5e3aa-b744-4629-9495-7a02843f5af2",
   "metadata": {},
   "outputs": [],
   "source": [
    "import pandas as pd\n",
    "import matplotlib as plt\n",
    "import re\n",
    "from IPython.display import FileLink"
   ]
  },
  {
   "cell_type": "markdown",
   "id": "2ce5bcd1-e236-47a8-82c6-e1951d61e458",
   "metadata": {},
   "source": [
    "# Add data to the notebook"
   ]
  },
  {
   "cell_type": "code",
   "execution_count": 2,
   "id": "b837ed88-1c3d-4f94-a7aa-f1423cdf923e",
   "metadata": {},
   "outputs": [
    {
     "name": "stderr",
     "output_type": "stream",
     "text": [
      "C:\\Users\\bkpug\\AppData\\Local\\Temp\\ipykernel_4864\\818199989.py:2: DtypeWarning: Columns (76) have mixed types. Specify dtype option on import or set low_memory=False.\n",
      "  df = pd.read_csv(filepath)\n"
     ]
    },
    {
     "data": {
      "text/html": [
       "<div>\n",
       "<style scoped>\n",
       "    .dataframe tbody tr th:only-of-type {\n",
       "        vertical-align: middle;\n",
       "    }\n",
       "\n",
       "    .dataframe tbody tr th {\n",
       "        vertical-align: top;\n",
       "    }\n",
       "\n",
       "    .dataframe thead th {\n",
       "        text-align: right;\n",
       "    }\n",
       "</style>\n",
       "<table border=\"1\" class=\"dataframe\">\n",
       "  <thead>\n",
       "    <tr style=\"text-align: right;\">\n",
       "      <th></th>\n",
       "      <th>ID</th>\n",
       "      <th>Name</th>\n",
       "      <th>LongName</th>\n",
       "      <th>photoUrl</th>\n",
       "      <th>playerUrl</th>\n",
       "      <th>Nationality</th>\n",
       "      <th>Age</th>\n",
       "      <th>↓OVA</th>\n",
       "      <th>POT</th>\n",
       "      <th>Club</th>\n",
       "      <th>...</th>\n",
       "      <th>A/W</th>\n",
       "      <th>D/W</th>\n",
       "      <th>IR</th>\n",
       "      <th>PAC</th>\n",
       "      <th>SHO</th>\n",
       "      <th>PAS</th>\n",
       "      <th>DRI</th>\n",
       "      <th>DEF</th>\n",
       "      <th>PHY</th>\n",
       "      <th>Hits</th>\n",
       "    </tr>\n",
       "  </thead>\n",
       "  <tbody>\n",
       "    <tr>\n",
       "      <th>0</th>\n",
       "      <td>158023</td>\n",
       "      <td>L. Messi</td>\n",
       "      <td>Lionel Messi</td>\n",
       "      <td>https://cdn.sofifa.com/players/158/023/21_60.png</td>\n",
       "      <td>http://sofifa.com/player/158023/lionel-messi/2...</td>\n",
       "      <td>Argentina</td>\n",
       "      <td>33</td>\n",
       "      <td>93</td>\n",
       "      <td>93</td>\n",
       "      <td>\\n\\n\\n\\nFC Barcelona</td>\n",
       "      <td>...</td>\n",
       "      <td>Medium</td>\n",
       "      <td>Low</td>\n",
       "      <td>5 ★</td>\n",
       "      <td>85</td>\n",
       "      <td>92</td>\n",
       "      <td>91</td>\n",
       "      <td>95</td>\n",
       "      <td>38</td>\n",
       "      <td>65</td>\n",
       "      <td>771</td>\n",
       "    </tr>\n",
       "    <tr>\n",
       "      <th>1</th>\n",
       "      <td>20801</td>\n",
       "      <td>Cristiano Ronaldo</td>\n",
       "      <td>C. Ronaldo dos Santos Aveiro</td>\n",
       "      <td>https://cdn.sofifa.com/players/020/801/21_60.png</td>\n",
       "      <td>http://sofifa.com/player/20801/c-ronaldo-dos-s...</td>\n",
       "      <td>Portugal</td>\n",
       "      <td>35</td>\n",
       "      <td>92</td>\n",
       "      <td>92</td>\n",
       "      <td>\\n\\n\\n\\nJuventus</td>\n",
       "      <td>...</td>\n",
       "      <td>High</td>\n",
       "      <td>Low</td>\n",
       "      <td>5 ★</td>\n",
       "      <td>89</td>\n",
       "      <td>93</td>\n",
       "      <td>81</td>\n",
       "      <td>89</td>\n",
       "      <td>35</td>\n",
       "      <td>77</td>\n",
       "      <td>562</td>\n",
       "    </tr>\n",
       "    <tr>\n",
       "      <th>2</th>\n",
       "      <td>200389</td>\n",
       "      <td>J. Oblak</td>\n",
       "      <td>Jan Oblak</td>\n",
       "      <td>https://cdn.sofifa.com/players/200/389/21_60.png</td>\n",
       "      <td>http://sofifa.com/player/200389/jan-oblak/210006/</td>\n",
       "      <td>Slovenia</td>\n",
       "      <td>27</td>\n",
       "      <td>91</td>\n",
       "      <td>93</td>\n",
       "      <td>\\n\\n\\n\\nAtlético Madrid</td>\n",
       "      <td>...</td>\n",
       "      <td>Medium</td>\n",
       "      <td>Medium</td>\n",
       "      <td>3 ★</td>\n",
       "      <td>87</td>\n",
       "      <td>92</td>\n",
       "      <td>78</td>\n",
       "      <td>90</td>\n",
       "      <td>52</td>\n",
       "      <td>90</td>\n",
       "      <td>150</td>\n",
       "    </tr>\n",
       "    <tr>\n",
       "      <th>3</th>\n",
       "      <td>192985</td>\n",
       "      <td>K. De Bruyne</td>\n",
       "      <td>Kevin De Bruyne</td>\n",
       "      <td>https://cdn.sofifa.com/players/192/985/21_60.png</td>\n",
       "      <td>http://sofifa.com/player/192985/kevin-de-bruyn...</td>\n",
       "      <td>Belgium</td>\n",
       "      <td>29</td>\n",
       "      <td>91</td>\n",
       "      <td>91</td>\n",
       "      <td>\\n\\n\\n\\nManchester City</td>\n",
       "      <td>...</td>\n",
       "      <td>High</td>\n",
       "      <td>High</td>\n",
       "      <td>4 ★</td>\n",
       "      <td>76</td>\n",
       "      <td>86</td>\n",
       "      <td>93</td>\n",
       "      <td>88</td>\n",
       "      <td>64</td>\n",
       "      <td>78</td>\n",
       "      <td>207</td>\n",
       "    </tr>\n",
       "    <tr>\n",
       "      <th>4</th>\n",
       "      <td>190871</td>\n",
       "      <td>Neymar Jr</td>\n",
       "      <td>Neymar da Silva Santos Jr.</td>\n",
       "      <td>https://cdn.sofifa.com/players/190/871/21_60.png</td>\n",
       "      <td>http://sofifa.com/player/190871/neymar-da-silv...</td>\n",
       "      <td>Brazil</td>\n",
       "      <td>28</td>\n",
       "      <td>91</td>\n",
       "      <td>91</td>\n",
       "      <td>\\n\\n\\n\\nParis Saint-Germain</td>\n",
       "      <td>...</td>\n",
       "      <td>High</td>\n",
       "      <td>Medium</td>\n",
       "      <td>5 ★</td>\n",
       "      <td>91</td>\n",
       "      <td>85</td>\n",
       "      <td>86</td>\n",
       "      <td>94</td>\n",
       "      <td>36</td>\n",
       "      <td>59</td>\n",
       "      <td>595</td>\n",
       "    </tr>\n",
       "  </tbody>\n",
       "</table>\n",
       "<p>5 rows × 77 columns</p>\n",
       "</div>"
      ],
      "text/plain": [
       "       ID               Name                      LongName  \\\n",
       "0  158023           L. Messi                  Lionel Messi   \n",
       "1   20801  Cristiano Ronaldo  C. Ronaldo dos Santos Aveiro   \n",
       "2  200389           J. Oblak                     Jan Oblak   \n",
       "3  192985       K. De Bruyne               Kevin De Bruyne   \n",
       "4  190871          Neymar Jr    Neymar da Silva Santos Jr.   \n",
       "\n",
       "                                           photoUrl  \\\n",
       "0  https://cdn.sofifa.com/players/158/023/21_60.png   \n",
       "1  https://cdn.sofifa.com/players/020/801/21_60.png   \n",
       "2  https://cdn.sofifa.com/players/200/389/21_60.png   \n",
       "3  https://cdn.sofifa.com/players/192/985/21_60.png   \n",
       "4  https://cdn.sofifa.com/players/190/871/21_60.png   \n",
       "\n",
       "                                           playerUrl Nationality  Age  ↓OVA  \\\n",
       "0  http://sofifa.com/player/158023/lionel-messi/2...   Argentina   33    93   \n",
       "1  http://sofifa.com/player/20801/c-ronaldo-dos-s...    Portugal   35    92   \n",
       "2  http://sofifa.com/player/200389/jan-oblak/210006/    Slovenia   27    91   \n",
       "3  http://sofifa.com/player/192985/kevin-de-bruyn...     Belgium   29    91   \n",
       "4  http://sofifa.com/player/190871/neymar-da-silv...      Brazil   28    91   \n",
       "\n",
       "   POT                         Club  ...     A/W     D/W   IR PAC SHO  PAS  \\\n",
       "0   93         \\n\\n\\n\\nFC Barcelona  ...  Medium     Low  5 ★  85  92   91   \n",
       "1   92             \\n\\n\\n\\nJuventus  ...    High     Low  5 ★  89  93   81   \n",
       "2   93      \\n\\n\\n\\nAtlético Madrid  ...  Medium  Medium  3 ★  87  92   78   \n",
       "3   91      \\n\\n\\n\\nManchester City  ...    High    High  4 ★  76  86   93   \n",
       "4   91  \\n\\n\\n\\nParis Saint-Germain  ...    High  Medium  5 ★  91  85   86   \n",
       "\n",
       "  DRI DEF PHY Hits  \n",
       "0  95  38  65  771  \n",
       "1  89  35  77  562  \n",
       "2  90  52  90  150  \n",
       "3  88  64  78  207  \n",
       "4  94  36  59  595  \n",
       "\n",
       "[5 rows x 77 columns]"
      ]
     },
     "execution_count": 2,
     "metadata": {},
     "output_type": "execute_result"
    }
   ],
   "source": [
    "filepath = \"C:/Users/bkpug/Downloads/archive/fifa21 raw data v2.csv\"\n",
    "df = pd.read_csv(filepath)\n",
    "df.head()"
   ]
  },
  {
   "cell_type": "markdown",
   "id": "09d60a9f-d4d7-45e6-9e4f-a0697bfdcc86",
   "metadata": {},
   "source": [
    "# Remove all newline characters from the \"club\" column"
   ]
  },
  {
   "cell_type": "code",
   "execution_count": 3,
   "id": "65d99f8a-8a52-435d-aa11-0ff98cee8b51",
   "metadata": {},
   "outputs": [
    {
     "data": {
      "text/plain": [
       "0           FC Barcelona\n",
       "1               Juventus\n",
       "2        Atlético Madrid\n",
       "3        Manchester City\n",
       "4    Paris Saint-Germain\n",
       "Name: Club, dtype: object"
      ]
     },
     "execution_count": 3,
     "metadata": {},
     "output_type": "execute_result"
    }
   ],
   "source": [
    "club = df['Club'].str.replace('\\n', '', regex=False)\n",
    "club.head()"
   ]
  },
  {
   "cell_type": "markdown",
   "id": "1d4ffc17-14fc-4655-9018-1819828074ae",
   "metadata": {},
   "source": [
    "# Convert all player weights to kg\n",
    "- This allows all player weights to be more easily comparible"
   ]
  },
  {
   "cell_type": "code",
   "execution_count": 4,
   "id": "17a6cfc6-6550-4656-86de-a93ea5da44e7",
   "metadata": {},
   "outputs": [
    {
     "data": {
      "text/plain": [
       "88"
      ]
     },
     "execution_count": 4,
     "metadata": {},
     "output_type": "execute_result"
    }
   ],
   "source": [
    "# Remove Kg from the Weight column to convert it to an Int\n",
    "df['Weight'] = df['Weight'].str.replace('kg', '')\n",
    "\n",
    "# Extract the numeric value and unit for lbs\n",
    "df['Weight_Value'] = df['Weight'].str.extract('(\\d+)', expand=False).astype(float)\n",
    "df['Unit'] = df['Weight'].str.extract('(kg|lbs)', expand=False)\n",
    "\n",
    "# Convert unit for lbs into kg\n",
    "def convert_weight(row):\n",
    "    if row['Unit'] == 'lbs':\n",
    "        # Convert lbs to kg (1 lb = 0.453592 kg)\n",
    "        return row['Weight_Value'] * 0.453592\n",
    "    return row['Weight_Value']  # In case of no conversion\n",
    "\n",
    "# Apply conversion to a new column\n",
    "df['Converted_Weight'] = df.apply(convert_weight, axis=1)\n",
    "\n",
    "# Convert original weight column into converted new column\n",
    "df['Weight'] = df['Converted_Weight']\n",
    "\n",
    "# Convert Weight column into int and check by checking a random column\n",
    "df['Weight'] = df['Weight'].astype(int)\n",
    "df['Weight'].iloc[866]"
   ]
  },
  {
   "cell_type": "markdown",
   "id": "67125297-2161-4b45-90f6-1e8954a9e0dc",
   "metadata": {},
   "source": [
    "# Convert all player height's to centimeter's\n",
    "- Once again this helps with consistency and readability."
   ]
  },
  {
   "cell_type": "code",
   "execution_count": 5,
   "id": "f75bd181-3271-43e6-bb3f-717944243a02",
   "metadata": {},
   "outputs": [
    {
     "data": {
      "text/plain": [
       "0    170\n",
       "1    187\n",
       "2    188\n",
       "3    181\n",
       "4    175\n",
       "Name: Height, dtype: int32"
      ]
     },
     "execution_count": 5,
     "metadata": {},
     "output_type": "execute_result"
    }
   ],
   "source": [
    "# Function to convert height in feet to cm\n",
    "def convert_to_cm(height):\n",
    "    # If the height is in feet (like \"6'2\")\n",
    "    match = re.match(r\"(\\d+)'(\\d+)\", height)  # Matches height in feet (e.g., \"6'2\")\n",
    "    if match:\n",
    "        feet = int(match.group(1))\n",
    "        inches = int(match.group(2))\n",
    "        # Convert feet to cm (1 foot = 30.48 cm), and inches to cm (1 inch = 2.54 cm)\n",
    "        total_cm = feet * 30.48 + inches * 2.54\n",
    "        return total_cm\n",
    "    \n",
    "    # If the height is already in cm (like \"180cm\")\n",
    "    match = re.match(r\"(\\d+)cm\", height)  # Matches height in cm (e.g., \"180cm\")\n",
    "    if match:\n",
    "        return int(match.group(1))  # Return the numeric value in cm\n",
    "    \n",
    "    return None  # In case the height format is unknown\n",
    "\n",
    "# Apply the conversion function to the 'Height' column\n",
    "df[\"Height_cm\"] = df[\"Height\"].apply(convert_to_cm)\n",
    "\n",
    "# Change the full column for ['Height'] to the converted column\n",
    "df['Height'] = df['Height_cm']\n",
    "\n",
    "# Change the dtype of the column\n",
    "df['Height'] = df['Height'].astype(int)\n",
    "# Test\n",
    "df['Height'].iloc[886]\n",
    "df['Height'].head()\n"
   ]
  },
  {
   "cell_type": "markdown",
   "id": "a3bbf669-2501-4f8e-827d-6cf0ba1879d6",
   "metadata": {},
   "source": [
    "# Remove the Euro symbol from player value, and convert all value's to full numbers"
   ]
  },
  {
   "cell_type": "code",
   "execution_count": 6,
   "id": "d38c046f-e479-4b3b-a66a-7947168116c8",
   "metadata": {},
   "outputs": [
    {
     "data": {
      "text/plain": [
       "0    103500000\n",
       "1     63000000\n",
       "2    120000000\n",
       "3    129000000\n",
       "4    132000000\n",
       "Name: Full_Value, dtype: int64"
      ]
     },
     "execution_count": 6,
     "metadata": {},
     "output_type": "execute_result"
    }
   ],
   "source": [
    "# Function to convert 'm' or 'K' values to full integer\n",
    "def convert_to_full_value(value):\n",
    "    value_without_euro = str(value).replace('€', '').strip()\n",
    "\n",
    "    # Match for values in the form of €<number>m (millions) or €<number>K (thousands)\n",
    "    match_million = re.match(r'€(\\d+(\\.\\d+)?)m', value, re.IGNORECASE)  # For 'm' or 'M'\n",
    "    match_thousand = re.match(r'€(\\d+(\\.\\d+)?)k', value, re.IGNORECASE)  # For 'k' or 'K'\n",
    "    \n",
    "    if match_million:\n",
    "        # Extract the numeric value, convert to float, multiply by 1,000,000, and return as int\n",
    "        numeric_value = match_million.group(1)\n",
    "        try:\n",
    "            full_value = int(float(numeric_value) * 1_000_000)\n",
    "            return full_value\n",
    "        except ValueError as e:\n",
    "            print(f\"Error converting value '{numeric_value}' to float (millions): {e}\")\n",
    "            return None  # Or handle error as needed (e.g., return 0)\n",
    "    \n",
    "    elif match_thousand:\n",
    "        # Extract the numeric value, convert to float, multiply by 1,000, and return as int\n",
    "        numeric_value = match_thousand.group(1)\n",
    "        try:\n",
    "            full_value = int(float(numeric_value) * 1_000)\n",
    "            return full_value\n",
    "        except ValueError as e:\n",
    "            print(f\"Error converting value '{numeric_value}' to float (thousands): {e}\")\n",
    "            return None  # Or handle error as needed (e.g., return 0)\n",
    "\n",
    "    else:\n",
    "        # If no match, check if it's just a raw number (like '0' or '100')\n",
    "        try:\n",
    "            return int(value_without_euro)  # Convert pure numbers like '0' or '100' directly to integer\n",
    "        except ValueError:\n",
    "            print(f\"No match and unable to convert value: {value_without_euro}\")\n",
    "            return None  # Or handle error as needed (e.g., return 'Invalid')\n",
    "\n",
    "# Display the updated DataFrame\n",
    "\n",
    "\n",
    "df['Full_Value'] = df['Value'].apply(convert_to_full_value)\n",
    "df['Value'] = df['Full_Value']\n",
    "\n",
    "df['Full_Value'].head()"
   ]
  },
  {
   "cell_type": "markdown",
   "id": "9cd3d8a9-a1ab-48b4-a5e4-2ff2dc093375",
   "metadata": {},
   "source": [
    "# Divide the join date column into seperate columns for month, day, and year"
   ]
  },
  {
   "cell_type": "code",
   "execution_count": 7,
   "id": "e621adf8-745b-4726-804b-444eb3ff448f",
   "metadata": {},
   "outputs": [],
   "source": [
    "df[['Month', 'Day_Year']] = df['Joined'].str.split(' ', expand=True, n=1)\n",
    "\n",
    "df = df[df['Month'].notnull() & df['Day_Year'].notnull()]\n",
    "\n",
    "df['Day'] = df['Day_Year'].str.replace(',', '').str.split().str[0]\n",
    "\n",
    "df['Year'] = df['Day_Year'].str.split().str[1]\n",
    "\n",
    "df.drop(columns=['Day_Year'], inplace=True)\n",
    "\n",
    "df['Wage'] = df['Wage'].apply(convert_to_full_value)\n",
    "\n",
    "df['Wage'] = df['Wage'].astype(int)"
   ]
  },
  {
   "cell_type": "markdown",
   "id": "4ac86834-6dfb-4177-a3ee-974dc13d924a",
   "metadata": {},
   "source": [
    "# Drop the unecessary columns from the dataframe"
   ]
  },
  {
   "cell_type": "code",
   "execution_count": 8,
   "id": "4b6fa6bf-3010-462d-a1e6-df76bfb807f7",
   "metadata": {},
   "outputs": [],
   "source": [
    "df.drop(columns=['Weight_Value', 'Height_cm', 'Loan Date End', 'Unit', 'Converted_Weight', 'Value'], inplace=True)"
   ]
  },
  {
   "cell_type": "markdown",
   "id": "bb689dfe-3017-45a9-b008-c26d6ba1a6a8",
   "metadata": {},
   "source": [
    "# Check to insure all columns are the desired data type"
   ]
  },
  {
   "cell_type": "code",
   "execution_count": 9,
   "id": "ba35516b-1ed0-4ae6-a6e5-3b8a5db9a76c",
   "metadata": {},
   "outputs": [
    {
     "data": {
      "text/plain": [
       "ID                   int64\n",
       "Name                object\n",
       "LongName            object\n",
       "photoUrl            object\n",
       "playerUrl           object\n",
       "Nationality         object\n",
       "Age                  int64\n",
       "↓OVA                 int64\n",
       "POT                  int64\n",
       "Club                object\n",
       "Contract            object\n",
       "Positions           object\n",
       "Height               int32\n",
       "Weight               int32\n",
       "Preferred Foot      object\n",
       "BOV                  int64\n",
       "Best Position       object\n",
       "Joined              object\n",
       "Wage                 int32\n",
       "Release Clause      object\n",
       "Attacking            int64\n",
       "Crossing             int64\n",
       "Finishing            int64\n",
       "Heading Accuracy     int64\n",
       "Short Passing        int64\n",
       "Volleys              int64\n",
       "Skill                int64\n",
       "Dribbling            int64\n",
       "Curve                int64\n",
       "FK Accuracy          int64\n",
       "Long Passing         int64\n",
       "Ball Control         int64\n",
       "Movement             int64\n",
       "Acceleration         int64\n",
       "Sprint Speed         int64\n",
       "Agility              int64\n",
       "Reactions            int64\n",
       "Balance              int64\n",
       "Power                int64\n",
       "Shot Power           int64\n",
       "Jumping              int64\n",
       "Stamina              int64\n",
       "Strength             int64\n",
       "Long Shots           int64\n",
       "Mentality            int64\n",
       "Aggression           int64\n",
       "Interceptions        int64\n",
       "Positioning          int64\n",
       "Vision               int64\n",
       "Penalties            int64\n",
       "Composure            int64\n",
       "Defending            int64\n",
       "Marking              int64\n",
       "Standing Tackle      int64\n",
       "Sliding Tackle       int64\n",
       "Goalkeeping          int64\n",
       "GK Diving            int64\n",
       "GK Handling          int64\n",
       "GK Kicking           int64\n",
       "GK Positioning       int64\n",
       "GK Reflexes          int64\n",
       "Total Stats          int64\n",
       "Base Stats           int64\n",
       "W/F                 object\n",
       "SM                  object\n",
       "A/W                 object\n",
       "D/W                 object\n",
       "IR                  object\n",
       "PAC                  int64\n",
       "SHO                  int64\n",
       "PAS                  int64\n",
       "DRI                  int64\n",
       "DEF                  int64\n",
       "PHY                  int64\n",
       "Hits                object\n",
       "Full_Value           int64\n",
       "Month               object\n",
       "Day                 object\n",
       "Year                object\n",
       "dtype: object"
      ]
     },
     "execution_count": 9,
     "metadata": {},
     "output_type": "execute_result"
    }
   ],
   "source": [
    "pd.set_option('display.max_rows', None)\n",
    "df.dtypes"
   ]
  },
  {
   "cell_type": "markdown",
   "id": "e2385cdb-dbf3-4f7b-ae96-089fffaeb4db",
   "metadata": {},
   "source": [
    "# Create a csv file for the newly cleaned data"
   ]
  },
  {
   "cell_type": "code",
   "execution_count": 10,
   "id": "d6bf5508-ee04-4f6a-8d58-221cf4e05584",
   "metadata": {},
   "outputs": [
    {
     "data": {
      "text/html": [
       "<a href='fifa_21_cleand_data.csv' target='_blank'>fifa_21_cleand_data.csv</a><br>"
      ],
      "text/plain": [
       "C:\\Users\\bkpug\\PycharmProjects\\AutoIT2\\fifa_21_cleand_data.csv"
      ]
     },
     "execution_count": 10,
     "metadata": {},
     "output_type": "execute_result"
    }
   ],
   "source": [
    "df.to_csv(\"fifa_21_cleand_data.csv\", header=True)\n",
    "FileLink(\"fifa_21_cleand_data.csv\")"
   ]
  },
  {
   "cell_type": "code",
   "execution_count": null,
   "id": "6134c7a1-cb7f-4198-a6bc-3918926d6f10",
   "metadata": {},
   "outputs": [],
   "source": []
  }
 ],
 "metadata": {
  "kernelspec": {
   "display_name": "Python 3 (ipykernel)",
   "language": "python",
   "name": "python3"
  },
  "language_info": {
   "codemirror_mode": {
    "name": "ipython",
    "version": 3
   },
   "file_extension": ".py",
   "mimetype": "text/x-python",
   "name": "python",
   "nbconvert_exporter": "python",
   "pygments_lexer": "ipython3",
   "version": "3.11.5"
  }
 },
 "nbformat": 4,
 "nbformat_minor": 5
}
